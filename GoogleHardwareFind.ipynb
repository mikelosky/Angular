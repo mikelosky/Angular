{
  "nbformat": 4,
  "nbformat_minor": 0,
  "metadata": {
    "colab": {
      "provenance": [],
      "authorship_tag": "ABX9TyPGQOZSZve9oj1tt3LwqrP6",
      "include_colab_link": true
    },
    "kernelspec": {
      "name": "python3",
      "display_name": "Python 3"
    },
    "language_info": {
      "name": "python"
    }
  },
  "cells": [
    {
      "cell_type": "markdown",
      "metadata": {
        "id": "view-in-github",
        "colab_type": "text"
      },
      "source": [
        "<a href=\"https://colab.research.google.com/github/mikelosky/Angular/blob/master/GoogleHardwareFind.ipynb\" target=\"_parent\"><img src=\"https://colab.research.google.com/assets/colab-badge.svg\" alt=\"Open In Colab\"/></a>"
      ]
    },
    {
      "cell_type": "code",
      "execution_count": null,
      "metadata": {
        "id": "NMfYXBeahC6-"
      },
      "outputs": [],
      "source": [
        "from psutil import *"
      ]
    },
    {
      "cell_type": "code",
      "source": [
        "cpu_count()"
      ],
      "metadata": {
        "id": "XecZ4_UfhNG7"
      },
      "execution_count": null,
      "outputs": []
    },
    {
      "cell_type": "code",
      "source": [
        "# CPU model and speed\n",
        "!lscpu |grep \"Model name\""
      ],
      "metadata": {
        "id": "0a2-pTxKhtd0"
      },
      "execution_count": null,
      "outputs": []
    },
    {
      "cell_type": "code",
      "source": [
        "# Usable HDD space\n",
        "!df -h / | awk \"{print $4}\" "
      ],
      "metadata": {
        "id": "zKZAnPK1htgT"
      },
      "execution_count": null,
      "outputs": []
    },
    {
      "cell_type": "code",
      "source": [
        "# Usable memory\n",
        "!free -h --si | awk \"/Mem:/{print $2}\""
      ],
      "metadata": {
        "id": "uuGebgFUhti8"
      },
      "execution_count": null,
      "outputs": []
    },
    {
      "cell_type": "code",
      "source": [
        "# GPU Type\n",
        "!nvidia-smi -L"
      ],
      "metadata": {
        "id": "jRBSpWkIhtlD"
      },
      "execution_count": null,
      "outputs": []
    },
    {
      "cell_type": "code",
      "source": [
        "# GPU Specs\n",
        "!nvidia-smi"
      ],
      "metadata": {
        "id": "uUuF4QsThtny"
      },
      "execution_count": null,
      "outputs": []
    }
  ]
}